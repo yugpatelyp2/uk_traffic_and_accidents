{
  "nbformat": 4,
  "nbformat_minor": 0,
  "metadata": {
    "colab": {
      "name": "UKAccidentMatchingLearningModel1.0.ipynb",
      "provenance": [],
      "collapsed_sections": []
    },
    "kernelspec": {
      "name": "python3",
      "display_name": "Python 3"
    },
    "language_info": {
      "name": "python"
    },
    "accelerator": "GPU"
  },
  "cells": [
    {
      "cell_type": "code",
      "metadata": {
        "id": "Buzr_j0pZdR3"
      },
      "source": [
        "import numpy as np\n",
        "import pandas as pd\n",
        "import matplotlib.pyplot as plt \n",
        "import sklearn\n",
        "import seaborn as sns"
      ],
      "execution_count": 1,
      "outputs": []
    },
    {
      "cell_type": "code",
      "metadata": {
        "colab": {
          "base_uri": "https://localhost:8080/"
        },
        "id": "xCam6Uh-IZcQ",
        "outputId": "9a6e27f4-0e50-4d3c-b430-0a6e0c776b2c"
      },
      "source": [
        "from google.colab import drive\n",
        "drive.mount('/content/drive')"
      ],
      "execution_count": 2,
      "outputs": [
        {
          "output_type": "stream",
          "text": [
            "Mounted at /content/drive\n"
          ],
          "name": "stdout"
        }
      ]
    },
    {
      "cell_type": "code",
      "metadata": {
        "id": "yt9y23-pZlrS"
      },
      "source": [
        "df_all = pd.read_csv(\"/content/drive/MyDrive/mydata/Accidents0515.csv\")"
      ],
      "execution_count": 3,
      "outputs": []
    },
    {
      "cell_type": "code",
      "metadata": {
        "colab": {
          "base_uri": "https://localhost:8080/",
          "height": 453
        },
        "id": "Nag8p9tLZ7TA",
        "outputId": "51aa6b68-597f-4aa4-c267-1ea4570ab02f"
      },
      "source": [
        "df_all"
      ],
      "execution_count": 4,
      "outputs": [
        {
          "output_type": "execute_result",
          "data": {
            "text/html": [
              "<div>\n",
              "<style scoped>\n",
              "    .dataframe tbody tr th:only-of-type {\n",
              "        vertical-align: middle;\n",
              "    }\n",
              "\n",
              "    .dataframe tbody tr th {\n",
              "        vertical-align: top;\n",
              "    }\n",
              "\n",
              "    .dataframe thead th {\n",
              "        text-align: right;\n",
              "    }\n",
              "</style>\n",
              "<table border=\"1\" class=\"dataframe\">\n",
              "  <thead>\n",
              "    <tr style=\"text-align: right;\">\n",
              "      <th></th>\n",
              "      <th>Accident_Index</th>\n",
              "      <th>Location_Easting_OSGR</th>\n",
              "      <th>Location_Northing_OSGR</th>\n",
              "      <th>Longitude</th>\n",
              "      <th>Latitude</th>\n",
              "      <th>Police_Force</th>\n",
              "      <th>Accident_Severity</th>\n",
              "      <th>Number_of_Vehicles</th>\n",
              "      <th>Number_of_Casualties</th>\n",
              "      <th>Date</th>\n",
              "      <th>Day_of_Week</th>\n",
              "      <th>Time</th>\n",
              "      <th>Local_Authority_(District)</th>\n",
              "      <th>Local_Authority_(Highway)</th>\n",
              "      <th>1st_Road_Class</th>\n",
              "      <th>1st_Road_Number</th>\n",
              "      <th>Road_Type</th>\n",
              "      <th>Speed_limit</th>\n",
              "      <th>Junction_Detail</th>\n",
              "      <th>Junction_Control</th>\n",
              "      <th>2nd_Road_Class</th>\n",
              "      <th>2nd_Road_Number</th>\n",
              "      <th>Pedestrian_Crossing-Human_Control</th>\n",
              "      <th>Pedestrian_Crossing-Physical_Facilities</th>\n",
              "      <th>Light_Conditions</th>\n",
              "      <th>Weather_Conditions</th>\n",
              "      <th>Road_Surface_Conditions</th>\n",
              "      <th>Special_Conditions_at_Site</th>\n",
              "      <th>Carriageway_Hazards</th>\n",
              "      <th>Urban_or_Rural_Area</th>\n",
              "      <th>Did_Police_Officer_Attend_Scene_of_Accident</th>\n",
              "      <th>LSOA_of_Accident_Location</th>\n",
              "    </tr>\n",
              "  </thead>\n",
              "  <tbody>\n",
              "    <tr>\n",
              "      <th>0</th>\n",
              "      <td>200501BS00001</td>\n",
              "      <td>525680.0</td>\n",
              "      <td>178240.0</td>\n",
              "      <td>-0.191170</td>\n",
              "      <td>51.489096</td>\n",
              "      <td>1</td>\n",
              "      <td>2</td>\n",
              "      <td>1</td>\n",
              "      <td>1</td>\n",
              "      <td>04/01/2005</td>\n",
              "      <td>3</td>\n",
              "      <td>17:42</td>\n",
              "      <td>12</td>\n",
              "      <td>E09000020</td>\n",
              "      <td>3</td>\n",
              "      <td>3218</td>\n",
              "      <td>6</td>\n",
              "      <td>30</td>\n",
              "      <td>0</td>\n",
              "      <td>-1</td>\n",
              "      <td>-1</td>\n",
              "      <td>0</td>\n",
              "      <td>0</td>\n",
              "      <td>1</td>\n",
              "      <td>1</td>\n",
              "      <td>2</td>\n",
              "      <td>2</td>\n",
              "      <td>0</td>\n",
              "      <td>0</td>\n",
              "      <td>1</td>\n",
              "      <td>1</td>\n",
              "      <td>E01002849</td>\n",
              "    </tr>\n",
              "    <tr>\n",
              "      <th>1</th>\n",
              "      <td>200501BS00002</td>\n",
              "      <td>524170.0</td>\n",
              "      <td>181650.0</td>\n",
              "      <td>-0.211708</td>\n",
              "      <td>51.520075</td>\n",
              "      <td>1</td>\n",
              "      <td>3</td>\n",
              "      <td>1</td>\n",
              "      <td>1</td>\n",
              "      <td>05/01/2005</td>\n",
              "      <td>4</td>\n",
              "      <td>17:36</td>\n",
              "      <td>12</td>\n",
              "      <td>E09000020</td>\n",
              "      <td>4</td>\n",
              "      <td>450</td>\n",
              "      <td>3</td>\n",
              "      <td>30</td>\n",
              "      <td>6</td>\n",
              "      <td>2</td>\n",
              "      <td>5</td>\n",
              "      <td>0</td>\n",
              "      <td>0</td>\n",
              "      <td>5</td>\n",
              "      <td>4</td>\n",
              "      <td>1</td>\n",
              "      <td>1</td>\n",
              "      <td>0</td>\n",
              "      <td>0</td>\n",
              "      <td>1</td>\n",
              "      <td>1</td>\n",
              "      <td>E01002909</td>\n",
              "    </tr>\n",
              "    <tr>\n",
              "      <th>2</th>\n",
              "      <td>200501BS00003</td>\n",
              "      <td>524520.0</td>\n",
              "      <td>182240.0</td>\n",
              "      <td>-0.206458</td>\n",
              "      <td>51.525301</td>\n",
              "      <td>1</td>\n",
              "      <td>3</td>\n",
              "      <td>2</td>\n",
              "      <td>1</td>\n",
              "      <td>06/01/2005</td>\n",
              "      <td>5</td>\n",
              "      <td>00:15</td>\n",
              "      <td>12</td>\n",
              "      <td>E09000020</td>\n",
              "      <td>5</td>\n",
              "      <td>0</td>\n",
              "      <td>6</td>\n",
              "      <td>30</td>\n",
              "      <td>0</td>\n",
              "      <td>-1</td>\n",
              "      <td>-1</td>\n",
              "      <td>0</td>\n",
              "      <td>0</td>\n",
              "      <td>0</td>\n",
              "      <td>4</td>\n",
              "      <td>1</td>\n",
              "      <td>1</td>\n",
              "      <td>0</td>\n",
              "      <td>0</td>\n",
              "      <td>1</td>\n",
              "      <td>1</td>\n",
              "      <td>E01002857</td>\n",
              "    </tr>\n",
              "    <tr>\n",
              "      <th>3</th>\n",
              "      <td>200501BS00004</td>\n",
              "      <td>526900.0</td>\n",
              "      <td>177530.0</td>\n",
              "      <td>-0.173862</td>\n",
              "      <td>51.482442</td>\n",
              "      <td>1</td>\n",
              "      <td>3</td>\n",
              "      <td>1</td>\n",
              "      <td>1</td>\n",
              "      <td>07/01/2005</td>\n",
              "      <td>6</td>\n",
              "      <td>10:35</td>\n",
              "      <td>12</td>\n",
              "      <td>E09000020</td>\n",
              "      <td>3</td>\n",
              "      <td>3220</td>\n",
              "      <td>6</td>\n",
              "      <td>30</td>\n",
              "      <td>0</td>\n",
              "      <td>-1</td>\n",
              "      <td>-1</td>\n",
              "      <td>0</td>\n",
              "      <td>0</td>\n",
              "      <td>0</td>\n",
              "      <td>1</td>\n",
              "      <td>1</td>\n",
              "      <td>1</td>\n",
              "      <td>0</td>\n",
              "      <td>0</td>\n",
              "      <td>1</td>\n",
              "      <td>1</td>\n",
              "      <td>E01002840</td>\n",
              "    </tr>\n",
              "    <tr>\n",
              "      <th>4</th>\n",
              "      <td>200501BS00005</td>\n",
              "      <td>528060.0</td>\n",
              "      <td>179040.0</td>\n",
              "      <td>-0.156618</td>\n",
              "      <td>51.495752</td>\n",
              "      <td>1</td>\n",
              "      <td>3</td>\n",
              "      <td>1</td>\n",
              "      <td>1</td>\n",
              "      <td>10/01/2005</td>\n",
              "      <td>2</td>\n",
              "      <td>21:13</td>\n",
              "      <td>12</td>\n",
              "      <td>E09000020</td>\n",
              "      <td>6</td>\n",
              "      <td>0</td>\n",
              "      <td>6</td>\n",
              "      <td>30</td>\n",
              "      <td>0</td>\n",
              "      <td>-1</td>\n",
              "      <td>-1</td>\n",
              "      <td>0</td>\n",
              "      <td>0</td>\n",
              "      <td>0</td>\n",
              "      <td>7</td>\n",
              "      <td>1</td>\n",
              "      <td>2</td>\n",
              "      <td>0</td>\n",
              "      <td>0</td>\n",
              "      <td>1</td>\n",
              "      <td>1</td>\n",
              "      <td>E01002863</td>\n",
              "    </tr>\n",
              "    <tr>\n",
              "      <th>...</th>\n",
              "      <td>...</td>\n",
              "      <td>...</td>\n",
              "      <td>...</td>\n",
              "      <td>...</td>\n",
              "      <td>...</td>\n",
              "      <td>...</td>\n",
              "      <td>...</td>\n",
              "      <td>...</td>\n",
              "      <td>...</td>\n",
              "      <td>...</td>\n",
              "      <td>...</td>\n",
              "      <td>...</td>\n",
              "      <td>...</td>\n",
              "      <td>...</td>\n",
              "      <td>...</td>\n",
              "      <td>...</td>\n",
              "      <td>...</td>\n",
              "      <td>...</td>\n",
              "      <td>...</td>\n",
              "      <td>...</td>\n",
              "      <td>...</td>\n",
              "      <td>...</td>\n",
              "      <td>...</td>\n",
              "      <td>...</td>\n",
              "      <td>...</td>\n",
              "      <td>...</td>\n",
              "      <td>...</td>\n",
              "      <td>...</td>\n",
              "      <td>...</td>\n",
              "      <td>...</td>\n",
              "      <td>...</td>\n",
              "      <td>...</td>\n",
              "    </tr>\n",
              "    <tr>\n",
              "      <th>1780648</th>\n",
              "      <td>2015984139115</td>\n",
              "      <td>312087.0</td>\n",
              "      <td>570791.0</td>\n",
              "      <td>-3.376671</td>\n",
              "      <td>55.023855</td>\n",
              "      <td>98</td>\n",
              "      <td>3</td>\n",
              "      <td>3</td>\n",
              "      <td>1</td>\n",
              "      <td>11/12/2015</td>\n",
              "      <td>6</td>\n",
              "      <td>13:24</td>\n",
              "      <td>917</td>\n",
              "      <td>S12000006</td>\n",
              "      <td>3</td>\n",
              "      <td>75</td>\n",
              "      <td>6</td>\n",
              "      <td>60</td>\n",
              "      <td>0</td>\n",
              "      <td>-1</td>\n",
              "      <td>-1</td>\n",
              "      <td>0</td>\n",
              "      <td>0</td>\n",
              "      <td>0</td>\n",
              "      <td>1</td>\n",
              "      <td>1</td>\n",
              "      <td>2</td>\n",
              "      <td>0</td>\n",
              "      <td>0</td>\n",
              "      <td>2</td>\n",
              "      <td>1</td>\n",
              "      <td>NaN</td>\n",
              "    </tr>\n",
              "    <tr>\n",
              "      <th>1780649</th>\n",
              "      <td>2015984139715</td>\n",
              "      <td>320671.0</td>\n",
              "      <td>569791.0</td>\n",
              "      <td>-3.242159</td>\n",
              "      <td>55.016316</td>\n",
              "      <td>98</td>\n",
              "      <td>3</td>\n",
              "      <td>2</td>\n",
              "      <td>1</td>\n",
              "      <td>02/12/2015</td>\n",
              "      <td>4</td>\n",
              "      <td>13:50</td>\n",
              "      <td>917</td>\n",
              "      <td>S12000006</td>\n",
              "      <td>4</td>\n",
              "      <td>722</td>\n",
              "      <td>6</td>\n",
              "      <td>60</td>\n",
              "      <td>3</td>\n",
              "      <td>4</td>\n",
              "      <td>6</td>\n",
              "      <td>0</td>\n",
              "      <td>0</td>\n",
              "      <td>0</td>\n",
              "      <td>1</td>\n",
              "      <td>1</td>\n",
              "      <td>2</td>\n",
              "      <td>0</td>\n",
              "      <td>0</td>\n",
              "      <td>2</td>\n",
              "      <td>1</td>\n",
              "      <td>NaN</td>\n",
              "    </tr>\n",
              "    <tr>\n",
              "      <th>1780650</th>\n",
              "      <td>2015984140215</td>\n",
              "      <td>311731.0</td>\n",
              "      <td>586343.0</td>\n",
              "      <td>-3.387067</td>\n",
              "      <td>55.163502</td>\n",
              "      <td>98</td>\n",
              "      <td>2</td>\n",
              "      <td>1</td>\n",
              "      <td>4</td>\n",
              "      <td>23/12/2015</td>\n",
              "      <td>4</td>\n",
              "      <td>00:01</td>\n",
              "      <td>917</td>\n",
              "      <td>S12000006</td>\n",
              "      <td>2</td>\n",
              "      <td>74</td>\n",
              "      <td>3</td>\n",
              "      <td>70</td>\n",
              "      <td>0</td>\n",
              "      <td>-1</td>\n",
              "      <td>-1</td>\n",
              "      <td>0</td>\n",
              "      <td>0</td>\n",
              "      <td>0</td>\n",
              "      <td>6</td>\n",
              "      <td>4</td>\n",
              "      <td>2</td>\n",
              "      <td>0</td>\n",
              "      <td>0</td>\n",
              "      <td>2</td>\n",
              "      <td>1</td>\n",
              "      <td>NaN</td>\n",
              "    </tr>\n",
              "    <tr>\n",
              "      <th>1780651</th>\n",
              "      <td>2015984140515</td>\n",
              "      <td>328273.0</td>\n",
              "      <td>570137.0</td>\n",
              "      <td>-3.123385</td>\n",
              "      <td>55.020580</td>\n",
              "      <td>98</td>\n",
              "      <td>3</td>\n",
              "      <td>3</td>\n",
              "      <td>3</td>\n",
              "      <td>26/12/2015</td>\n",
              "      <td>7</td>\n",
              "      <td>12:40</td>\n",
              "      <td>917</td>\n",
              "      <td>S12000006</td>\n",
              "      <td>4</td>\n",
              "      <td>7076</td>\n",
              "      <td>6</td>\n",
              "      <td>60</td>\n",
              "      <td>5</td>\n",
              "      <td>4</td>\n",
              "      <td>2</td>\n",
              "      <td>74</td>\n",
              "      <td>0</td>\n",
              "      <td>0</td>\n",
              "      <td>1</td>\n",
              "      <td>2</td>\n",
              "      <td>2</td>\n",
              "      <td>0</td>\n",
              "      <td>0</td>\n",
              "      <td>2</td>\n",
              "      <td>1</td>\n",
              "      <td>NaN</td>\n",
              "    </tr>\n",
              "    <tr>\n",
              "      <th>1780652</th>\n",
              "      <td>2015984141415</td>\n",
              "      <td>314050.0</td>\n",
              "      <td>579638.0</td>\n",
              "      <td>-3.348646</td>\n",
              "      <td>55.103676</td>\n",
              "      <td>98</td>\n",
              "      <td>3</td>\n",
              "      <td>13</td>\n",
              "      <td>7</td>\n",
              "      <td>31/12/2015</td>\n",
              "      <td>5</td>\n",
              "      <td>16:37</td>\n",
              "      <td>917</td>\n",
              "      <td>S12000006</td>\n",
              "      <td>2</td>\n",
              "      <td>74</td>\n",
              "      <td>3</td>\n",
              "      <td>70</td>\n",
              "      <td>0</td>\n",
              "      <td>-1</td>\n",
              "      <td>-1</td>\n",
              "      <td>0</td>\n",
              "      <td>0</td>\n",
              "      <td>0</td>\n",
              "      <td>6</td>\n",
              "      <td>3</td>\n",
              "      <td>4</td>\n",
              "      <td>0</td>\n",
              "      <td>0</td>\n",
              "      <td>2</td>\n",
              "      <td>1</td>\n",
              "      <td>NaN</td>\n",
              "    </tr>\n",
              "  </tbody>\n",
              "</table>\n",
              "<p>1780653 rows × 32 columns</p>\n",
              "</div>"
            ],
            "text/plain": [
              "        Accident_Index  ...  LSOA_of_Accident_Location\n",
              "0        200501BS00001  ...                  E01002849\n",
              "1        200501BS00002  ...                  E01002909\n",
              "2        200501BS00003  ...                  E01002857\n",
              "3        200501BS00004  ...                  E01002840\n",
              "4        200501BS00005  ...                  E01002863\n",
              "...                ...  ...                        ...\n",
              "1780648  2015984139115  ...                        NaN\n",
              "1780649  2015984139715  ...                        NaN\n",
              "1780650  2015984140215  ...                        NaN\n",
              "1780651  2015984140515  ...                        NaN\n",
              "1780652  2015984141415  ...                        NaN\n",
              "\n",
              "[1780653 rows x 32 columns]"
            ]
          },
          "metadata": {},
          "execution_count": 4
        }
      ]
    },
    {
      "cell_type": "code",
      "metadata": {
        "colab": {
          "base_uri": "https://localhost:8080/"
        },
        "id": "MdMNXAOUaBBp",
        "outputId": "685b6f31-bfd0-4b2d-bf76-69d591e494b0"
      },
      "source": [
        "df_all.isnull().sum()"
      ],
      "execution_count": 5,
      "outputs": [
        {
          "output_type": "execute_result",
          "data": {
            "text/plain": [
              "Accident_Index                                      0\n",
              "Location_Easting_OSGR                             138\n",
              "Location_Northing_OSGR                            138\n",
              "Longitude                                         138\n",
              "Latitude                                          138\n",
              "Police_Force                                        0\n",
              "Accident_Severity                                   0\n",
              "Number_of_Vehicles                                  0\n",
              "Number_of_Casualties                                0\n",
              "Date                                                0\n",
              "Day_of_Week                                         0\n",
              "Time                                              151\n",
              "Local_Authority_(District)                          0\n",
              "Local_Authority_(Highway)                           0\n",
              "1st_Road_Class                                      0\n",
              "1st_Road_Number                                     0\n",
              "Road_Type                                           0\n",
              "Speed_limit                                         0\n",
              "Junction_Detail                                     0\n",
              "Junction_Control                                    0\n",
              "2nd_Road_Class                                      0\n",
              "2nd_Road_Number                                     0\n",
              "Pedestrian_Crossing-Human_Control                   0\n",
              "Pedestrian_Crossing-Physical_Facilities             0\n",
              "Light_Conditions                                    0\n",
              "Weather_Conditions                                  0\n",
              "Road_Surface_Conditions                             0\n",
              "Special_Conditions_at_Site                          0\n",
              "Carriageway_Hazards                                 0\n",
              "Urban_or_Rural_Area                                 0\n",
              "Did_Police_Officer_Attend_Scene_of_Accident         0\n",
              "LSOA_of_Accident_Location                      129471\n",
              "dtype: int64"
            ]
          },
          "metadata": {},
          "execution_count": 5
        }
      ]
    },
    {
      "cell_type": "code",
      "metadata": {
        "id": "sSL975QraGRC"
      },
      "source": [
        "df_all = df_all[pd.notnull(df_all['Longitude'])]\n",
        "df_all = df_all[pd.notnull(df_all['Latitude'])]"
      ],
      "execution_count": 6,
      "outputs": []
    },
    {
      "cell_type": "code",
      "metadata": {
        "colab": {
          "base_uri": "https://localhost:8080/"
        },
        "id": "b0MGYz7naKJ1",
        "outputId": "a45fc5ad-6f1a-4ec2-839c-3623eff61d5a"
      },
      "source": [
        "df_all.isnull().sum()"
      ],
      "execution_count": 7,
      "outputs": [
        {
          "output_type": "execute_result",
          "data": {
            "text/plain": [
              "Accident_Index                                      0\n",
              "Location_Easting_OSGR                               0\n",
              "Location_Northing_OSGR                              0\n",
              "Longitude                                           0\n",
              "Latitude                                            0\n",
              "Police_Force                                        0\n",
              "Accident_Severity                                   0\n",
              "Number_of_Vehicles                                  0\n",
              "Number_of_Casualties                                0\n",
              "Date                                                0\n",
              "Day_of_Week                                         0\n",
              "Time                                              151\n",
              "Local_Authority_(District)                          0\n",
              "Local_Authority_(Highway)                           0\n",
              "1st_Road_Class                                      0\n",
              "1st_Road_Number                                     0\n",
              "Road_Type                                           0\n",
              "Speed_limit                                         0\n",
              "Junction_Detail                                     0\n",
              "Junction_Control                                    0\n",
              "2nd_Road_Class                                      0\n",
              "2nd_Road_Number                                     0\n",
              "Pedestrian_Crossing-Human_Control                   0\n",
              "Pedestrian_Crossing-Physical_Facilities             0\n",
              "Light_Conditions                                    0\n",
              "Weather_Conditions                                  0\n",
              "Road_Surface_Conditions                             0\n",
              "Special_Conditions_at_Site                          0\n",
              "Carriageway_Hazards                                 0\n",
              "Urban_or_Rural_Area                                 0\n",
              "Did_Police_Officer_Attend_Scene_of_Accident         0\n",
              "LSOA_of_Accident_Location                      129336\n",
              "dtype: int64"
            ]
          },
          "metadata": {},
          "execution_count": 7
        }
      ]
    },
    {
      "cell_type": "code",
      "metadata": {
        "colab": {
          "base_uri": "https://localhost:8080/",
          "height": 309
        },
        "id": "-eSW5fDYaULE",
        "outputId": "224294ec-e8a5-4a08-c5a0-09023d708091"
      },
      "source": [
        "ax = sns.countplot(x = df_all['Road_Type'],label=\"Count\")\n",
        "\n",
        "plt.figure(figsize=(50, 20))\n",
        "\n",
        "ax.set_xticklabels(ax.get_xticklabels(), rotation=40, ha=\"right\")\n",
        "plt.tight_layout()\n",
        "plt.show()"
      ],
      "execution_count": 8,
      "outputs": [
        {
          "output_type": "display_data",
          "data": {
            "image/png": "[encoded data removed]",
            "text/plain": [
              "<Figure size 432x288 with 1 Axes>"
            ]
          },
          "metadata": {
            "needs_background": "light"
          }
        },
        {
          "output_type": "display_data",
          "data": {
            "text/plain": [
              "<Figure size 3600x1440 with 0 Axes>"
            ]
          },
          "metadata": {}
        }
      ]
    },
    {
      "cell_type": "code",
      "metadata": {
        "colab": {
          "base_uri": "https://localhost:8080/",
          "height": 301
        },
        "id": "DrzE6Zycapsb",
        "outputId": "de0502c3-acf8-4ad0-d6d6-d97eee48a4b8"
      },
      "source": [
        "ax = sns.countplot(x = df_all['Junction_Control'],label=\"Count\")\n",
        "\n",
        "plt.figure(figsize=(50, 20))\n",
        "\n",
        "ax.set_xticklabels(ax.get_xticklabels(), rotation=40, ha=\"right\")\n",
        "plt.tight_layout()\n",
        "plt.show()"
      ],
      "execution_count": 9,
      "outputs": [
        {
          "output_type": "display_data",
          "data": {
            "image/png": "[encoded data removed]",
            "text/plain": [
              "<Figure size 432x288 with 1 Axes>"
            ]
          },
          "metadata": {
            "needs_background": "light"
          }
        },
        {
          "output_type": "display_data",
          "data": {
            "text/plain": [
              "<Figure size 3600x1440 with 0 Axes>"
            ]
          },
          "metadata": {}
        }
      ]
    },
    {
      "cell_type": "code",
      "metadata": {
        "colab": {
          "base_uri": "https://localhost:8080/",
          "height": 309
        },
        "id": "Repgsbjna86y",
        "outputId": "3e6ac5ee-3dab-437c-fdcf-5f70ed2b20eb"
      },
      "source": [
        "ax = sns.countplot(x = df_all['Urban_or_Rural_Area'],label=\"Count\")\n",
        "\n",
        "plt.figure(figsize=(50, 20))\n",
        "\n",
        "ax.set_xticklabels(ax.get_xticklabels(), rotation=40, ha=\"right\")\n",
        "plt.tight_layout()\n",
        "plt.show()"
      ],
      "execution_count": 10,
      "outputs": [
        {
          "output_type": "display_data",
          "data": {
            "image/png": "[encoded data removed]",
            "text/plain": [
              "<Figure size 432x288 with 1 Axes>"
            ]
          },
          "metadata": {
            "needs_background": "light"
          }
        },
        {
          "output_type": "display_data",
          "data": {
            "text/plain": [
              "<Figure size 3600x1440 with 0 Axes>"
            ]
          },
          "metadata": {}
        }
      ]
    },
    {
      "cell_type": "code",
      "metadata": {
        "colab": {
          "base_uri": "https://localhost:8080/"
        },
        "id": "KGNVkrXAbGHE",
        "outputId": "ee9a873d-86f3-4840-cf19-a4e18b867e82"
      },
      "source": [
        "\n",
        "import imblearn\n",
        "print(imblearn.__version__)\n",
        "\n",
        "from imblearn.over_sampling import SMOTE"
      ],
      "execution_count": 11,
      "outputs": [
        {
          "output_type": "stream",
          "text": [
            "/usr/local/lib/python3.7/dist-packages/sklearn/externals/six.py:31: FutureWarning: The module is deprecated in version 0.21 and will be removed in version 0.23 since we've dropped support for Python 2.7. Please rely on the official version of six (https://pypi.org/project/six/).\n",
            "  \"(https://pypi.org/project/six/).\", FutureWarning)\n"
          ],
          "name": "stderr"
        },
        {
          "output_type": "stream",
          "text": [
            "0.4.3\n"
          ],
          "name": "stdout"
        },
        {
          "output_type": "stream",
          "text": [
            "/usr/local/lib/python3.7/dist-packages/sklearn/utils/deprecation.py:144: FutureWarning: The sklearn.neighbors.base module is  deprecated in version 0.22 and will be removed in version 0.24. The corresponding classes / functions should instead be imported from sklearn.neighbors. Anything that cannot be imported from sklearn.neighbors is now part of the private API.\n",
            "  warnings.warn(message, FutureWarning)\n"
          ],
          "name": "stderr"
        }
      ]
    },
    {
      "cell_type": "code",
      "metadata": {
        "id": "LsFHrwlPhHWQ"
      },
      "source": [
        "df_all = df_all.drop(['Accident_Index','Location_Easting_OSGR', 'Location_Northing_OSGR',\n",
        "       'Police_Force', 'Accident_Severity',\n",
        "       'Number_of_Vehicles', 'Number_of_Casualties', 'Day_of_Week',\n",
        "       'Time', 'Local_Authority_(District)', 'Local_Authority_(Highway)',\n",
        "       '1st_Road_Class', '1st_Road_Number', 'Junction_Detail', 'Junction_Control', '2nd_Road_Class',\n",
        "       '2nd_Road_Number', 'Pedestrian_Crossing-Human_Control',\n",
        "       'Pedestrian_Crossing-Physical_Facilities', \n",
        "       'Special_Conditions_at_Site', 'Carriageway_Hazards',\n",
        "       'Did_Police_Officer_Attend_Scene_of_Accident',\n",
        "       'LSOA_of_Accident_Location'], axis=1)"
      ],
      "execution_count": 12,
      "outputs": []
    },
    {
      "cell_type": "code",
      "metadata": {
        "id": "8C-r66-YbT7q"
      },
      "source": [
        "df_all['Date'] = pd.to_datetime(df_all['Date'], errors='coerce')"
      ],
      "execution_count": 13,
      "outputs": []
    },
    {
      "cell_type": "code",
      "metadata": {
        "colab": {
          "base_uri": "https://localhost:8080/",
          "height": 604
        },
        "id": "z7G-IEqcbZwv",
        "outputId": "cffaa9da-5132-49dc-8950-73f971bc1ad1"
      },
      "source": [
        "df_all"
      ],
      "execution_count": 14,
      "outputs": [
        {
          "output_type": "execute_result",
          "data": {
            "text/html": [
              "<div>\n",
              "<style scoped>\n",
              "    .dataframe tbody tr th:only-of-type {\n",
              "        vertical-align: middle;\n",
              "    }\n",
              "\n",
              "    .dataframe tbody tr th {\n",
              "        vertical-align: top;\n",
              "    }\n",
              "\n",
              "    .dataframe thead th {\n",
              "        text-align: right;\n",
              "    }\n",
              "</style>\n",
              "<table border=\"1\" class=\"dataframe\">\n",
              "  <thead>\n",
              "    <tr style=\"text-align: right;\">\n",
              "      <th></th>\n",
              "      <th>Longitude</th>\n",
              "      <th>Latitude</th>\n",
              "      <th>Date</th>\n",
              "      <th>Road_Type</th>\n",
              "      <th>Speed_limit</th>\n",
              "      <th>Light_Conditions</th>\n",
              "      <th>Weather_Conditions</th>\n",
              "      <th>Road_Surface_Conditions</th>\n",
              "      <th>Urban_or_Rural_Area</th>\n",
              "    </tr>\n",
              "  </thead>\n",
              "  <tbody>\n",
              "    <tr>\n",
              "      <th>0</th>\n",
              "      <td>-0.191170</td>\n",
              "      <td>51.489096</td>\n",
              "      <td>2005-04-01</td>\n",
              "      <td>6</td>\n",
              "      <td>30</td>\n",
              "      <td>1</td>\n",
              "      <td>2</td>\n",
              "      <td>2</td>\n",
              "      <td>1</td>\n",
              "    </tr>\n",
              "    <tr>\n",
              "      <th>1</th>\n",
              "      <td>-0.211708</td>\n",
              "      <td>51.520075</td>\n",
              "      <td>2005-05-01</td>\n",
              "      <td>3</td>\n",
              "      <td>30</td>\n",
              "      <td>4</td>\n",
              "      <td>1</td>\n",
              "      <td>1</td>\n",
              "      <td>1</td>\n",
              "    </tr>\n",
              "    <tr>\n",
              "      <th>2</th>\n",
              "      <td>-0.206458</td>\n",
              "      <td>51.525301</td>\n",
              "      <td>2005-06-01</td>\n",
              "      <td>6</td>\n",
              "      <td>30</td>\n",
              "      <td>4</td>\n",
              "      <td>1</td>\n",
              "      <td>1</td>\n",
              "      <td>1</td>\n",
              "    </tr>\n",
              "    <tr>\n",
              "      <th>3</th>\n",
              "      <td>-0.173862</td>\n",
              "      <td>51.482442</td>\n",
              "      <td>2005-07-01</td>\n",
              "      <td>6</td>\n",
              "      <td>30</td>\n",
              "      <td>1</td>\n",
              "      <td>1</td>\n",
              "      <td>1</td>\n",
              "      <td>1</td>\n",
              "    </tr>\n",
              "    <tr>\n",
              "      <th>4</th>\n",
              "      <td>-0.156618</td>\n",
              "      <td>51.495752</td>\n",
              "      <td>2005-10-01</td>\n",
              "      <td>6</td>\n",
              "      <td>30</td>\n",
              "      <td>7</td>\n",
              "      <td>1</td>\n",
              "      <td>2</td>\n",
              "      <td>1</td>\n",
              "    </tr>\n",
              "    <tr>\n",
              "      <th>...</th>\n",
              "      <td>...</td>\n",
              "      <td>...</td>\n",
              "      <td>...</td>\n",
              "      <td>...</td>\n",
              "      <td>...</td>\n",
              "      <td>...</td>\n",
              "      <td>...</td>\n",
              "      <td>...</td>\n",
              "      <td>...</td>\n",
              "    </tr>\n",
              "    <tr>\n",
              "      <th>1780648</th>\n",
              "      <td>-3.376671</td>\n",
              "      <td>55.023855</td>\n",
              "      <td>2015-11-12</td>\n",
              "      <td>6</td>\n",
              "      <td>60</td>\n",
              "      <td>1</td>\n",
              "      <td>1</td>\n",
              "      <td>2</td>\n",
              "      <td>2</td>\n",
              "    </tr>\n",
              "    <tr>\n",
              "      <th>1780649</th>\n",
              "      <td>-3.242159</td>\n",
              "      <td>55.016316</td>\n",
              "      <td>2015-02-12</td>\n",
              "      <td>6</td>\n",
              "      <td>60</td>\n",
              "      <td>1</td>\n",
              "      <td>1</td>\n",
              "      <td>2</td>\n",
              "      <td>2</td>\n",
              "    </tr>\n",
              "    <tr>\n",
              "      <th>1780650</th>\n",
              "      <td>-3.387067</td>\n",
              "      <td>55.163502</td>\n",
              "      <td>2015-12-23</td>\n",
              "      <td>3</td>\n",
              "      <td>70</td>\n",
              "      <td>6</td>\n",
              "      <td>4</td>\n",
              "      <td>2</td>\n",
              "      <td>2</td>\n",
              "    </tr>\n",
              "    <tr>\n",
              "      <th>1780651</th>\n",
              "      <td>-3.123385</td>\n",
              "      <td>55.020580</td>\n",
              "      <td>2015-12-26</td>\n",
              "      <td>6</td>\n",
              "      <td>60</td>\n",
              "      <td>1</td>\n",
              "      <td>2</td>\n",
              "      <td>2</td>\n",
              "      <td>2</td>\n",
              "    </tr>\n",
              "    <tr>\n",
              "      <th>1780652</th>\n",
              "      <td>-3.348646</td>\n",
              "      <td>55.103676</td>\n",
              "      <td>2015-12-31</td>\n",
              "      <td>3</td>\n",
              "      <td>70</td>\n",
              "      <td>6</td>\n",
              "      <td>3</td>\n",
              "      <td>4</td>\n",
              "      <td>2</td>\n",
              "    </tr>\n",
              "  </tbody>\n",
              "</table>\n",
              "<p>1780515 rows × 9 columns</p>\n",
              "</div>"
            ],
            "text/plain": [
              "         Longitude   Latitude  ... Road_Surface_Conditions  Urban_or_Rural_Area\n",
              "0        -0.191170  51.489096  ...                       2                    1\n",
              "1        -0.211708  51.520075  ...                       1                    1\n",
              "2        -0.206458  51.525301  ...                       1                    1\n",
              "3        -0.173862  51.482442  ...                       1                    1\n",
              "4        -0.156618  51.495752  ...                       2                    1\n",
              "...            ...        ...  ...                     ...                  ...\n",
              "1780648  -3.376671  55.023855  ...                       2                    2\n",
              "1780649  -3.242159  55.016316  ...                       2                    2\n",
              "1780650  -3.387067  55.163502  ...                       2                    2\n",
              "1780651  -3.123385  55.020580  ...                       2                    2\n",
              "1780652  -3.348646  55.103676  ...                       4                    2\n",
              "\n",
              "[1780515 rows x 9 columns]"
            ]
          },
          "metadata": {},
          "execution_count": 14
        }
      ]
    },
    {
      "cell_type": "code",
      "metadata": {
        "colab": {
          "base_uri": "https://localhost:8080/"
        },
        "id": "tF1ruYRgeJa_",
        "outputId": "ef700dad-06c5-420f-cf30-069bcef1ede0"
      },
      "source": [
        "df_all.columns"
      ],
      "execution_count": 15,
      "outputs": [
        {
          "output_type": "execute_result",
          "data": {
            "text/plain": [
              "Index(['Longitude', 'Latitude', 'Date', 'Road_Type', 'Speed_limit',\n",
              "       'Light_Conditions', 'Weather_Conditions', 'Road_Surface_Conditions',\n",
              "       'Urban_or_Rural_Area'],\n",
              "      dtype='object')"
            ]
          },
          "metadata": {},
          "execution_count": 15
        }
      ]
    },
    {
      "cell_type": "code",
      "metadata": {
        "id": "F_aL1ETQbki0"
      },
      "source": [
        "df_all['Date'] = df_all['Date'].astype('datetime64[ns]')\n",
        "df_all['Longitude'] = df_all['Longitude'].astype('object')\n",
        "df_all['Latitude'] = df_all['Latitude'].astype('object')\n",
        "df_all['Road_Type'] = df_all['Road_Type'].astype('object')\n",
        "df_all['Speed_limit'] = df_all['Speed_limit'].astype('object')\n",
        "df_all['Light_Conditions'] = df_all['Light_Conditions'].astype('object')\n",
        "df_all['Weather_Conditions'] = df_all['Weather_Conditions'].astype('object')\n",
        "df_all['Road_Surface_Conditions'] = df_all['Road_Surface_Conditions'].astype('object')\n",
        "df_all['Urban_or_Rural_Area'] = df_all['Urban_or_Rural_Area'].astype('object')\n"
      ],
      "execution_count": 16,
      "outputs": []
    },
    {
      "cell_type": "code",
      "metadata": {
        "id": "4xdrd9pRbsGH"
      },
      "source": [
        "df_all = df_all[pd.notnull(df_all['Date'])]"
      ],
      "execution_count": 17,
      "outputs": []
    },
    {
      "cell_type": "code",
      "metadata": {
        "colab": {
          "base_uri": "https://localhost:8080/"
        },
        "id": "zN5NrYQ7bvUx",
        "outputId": "24538a1d-64ae-4f2f-d9c8-ba320ffd4c06"
      },
      "source": [
        "df_all.info()"
      ],
      "execution_count": 18,
      "outputs": [
        {
          "output_type": "stream",
          "text": [
            "<class 'pandas.core.frame.DataFrame'>\n",
            "Int64Index: 1780515 entries, 0 to 1780652\n",
            "Data columns (total 9 columns):\n",
            " #   Column                   Dtype         \n",
            "---  ------                   -----         \n",
            " 0   Longitude                object        \n",
            " 1   Latitude                 object        \n",
            " 2   Date                     datetime64[ns]\n",
            " 3   Road_Type                object        \n",
            " 4   Speed_limit              object        \n",
            " 5   Light_Conditions         object        \n",
            " 6   Weather_Conditions       object        \n",
            " 7   Road_Surface_Conditions  object        \n",
            " 8   Urban_or_Rural_Area      object        \n",
            "dtypes: datetime64[ns](1), object(8)\n",
            "memory usage: 135.8+ MB\n"
          ],
          "name": "stdout"
        }
      ]
    },
    {
      "cell_type": "code",
      "metadata": {
        "id": "By9Zmty2b5_L"
      },
      "source": [
        "df_all['Date'] = df_all['Date'].dt.month"
      ],
      "execution_count": 19,
      "outputs": []
    },
    {
      "cell_type": "markdown",
      "metadata": {
        "id": "RZj6pvdftgmc"
      },
      "source": [
        ""
      ]
    },
    {
      "cell_type": "code",
      "metadata": {
        "colab": {
          "base_uri": "https://localhost:8080/"
        },
        "id": "MHQRobJQcSVh",
        "outputId": "61df10e9-30f2-4ec3-dd2e-6f8fca845ce3"
      },
      "source": [
        "df_all['Date'].unique().tolist()"
      ],
      "execution_count": 20,
      "outputs": [
        {
          "output_type": "execute_result",
          "data": {
            "text/plain": [
              "[4, 5, 6, 7, 10, 11, 1, 8, 2, 3, 12, 9]"
            ]
          },
          "metadata": {},
          "execution_count": 20
        }
      ]
    },
    {
      "cell_type": "code",
      "metadata": {
        "colab": {
          "base_uri": "https://localhost:8080/",
          "height": 436
        },
        "id": "z9rk0gAjc1TH",
        "outputId": "d10cfd10-5b5b-4cba-d4e2-73366998a4c9"
      },
      "source": [
        "X = df_all.drop('Date', axis=1)\n",
        "\n",
        "Y = df_all['Date'] #Gets the Target Variable\n",
        "\n",
        "X\n"
      ],
      "execution_count": 21,
      "outputs": [
        {
          "output_type": "execute_result",
          "data": {
            "text/html": [
              "<div>\n",
              "<style scoped>\n",
              "    .dataframe tbody tr th:only-of-type {\n",
              "        vertical-align: middle;\n",
              "    }\n",
              "\n",
              "    .dataframe tbody tr th {\n",
              "        vertical-align: top;\n",
              "    }\n",
              "\n",
              "    .dataframe thead th {\n",
              "        text-align: right;\n",
              "    }\n",
              "</style>\n",
              "<table border=\"1\" class=\"dataframe\">\n",
              "  <thead>\n",
              "    <tr style=\"text-align: right;\">\n",
              "      <th></th>\n",
              "      <th>Longitude</th>\n",
              "      <th>Latitude</th>\n",
              "      <th>Road_Type</th>\n",
              "      <th>Speed_limit</th>\n",
              "      <th>Light_Conditions</th>\n",
              "      <th>Weather_Conditions</th>\n",
              "      <th>Road_Surface_Conditions</th>\n",
              "      <th>Urban_or_Rural_Area</th>\n",
              "    </tr>\n",
              "  </thead>\n",
              "  <tbody>\n",
              "    <tr>\n",
              "      <th>0</th>\n",
              "      <td>-0.19117</td>\n",
              "      <td>51.4891</td>\n",
              "      <td>6</td>\n",
              "      <td>30</td>\n",
              "      <td>1</td>\n",
              "      <td>2</td>\n",
              "      <td>2</td>\n",
              "      <td>1</td>\n",
              "    </tr>\n",
              "    <tr>\n",
              "      <th>1</th>\n",
              "      <td>-0.211708</td>\n",
              "      <td>51.5201</td>\n",
              "      <td>3</td>\n",
              "      <td>30</td>\n",
              "      <td>4</td>\n",
              "      <td>1</td>\n",
              "      <td>1</td>\n",
              "      <td>1</td>\n",
              "    </tr>\n",
              "    <tr>\n",
              "      <th>2</th>\n",
              "      <td>-0.206458</td>\n",
              "      <td>51.5253</td>\n",
              "      <td>6</td>\n",
              "      <td>30</td>\n",
              "      <td>4</td>\n",
              "      <td>1</td>\n",
              "      <td>1</td>\n",
              "      <td>1</td>\n",
              "    </tr>\n",
              "    <tr>\n",
              "      <th>3</th>\n",
              "      <td>-0.173862</td>\n",
              "      <td>51.4824</td>\n",
              "      <td>6</td>\n",
              "      <td>30</td>\n",
              "      <td>1</td>\n",
              "      <td>1</td>\n",
              "      <td>1</td>\n",
              "      <td>1</td>\n",
              "    </tr>\n",
              "    <tr>\n",
              "      <th>4</th>\n",
              "      <td>-0.156618</td>\n",
              "      <td>51.4958</td>\n",
              "      <td>6</td>\n",
              "      <td>30</td>\n",
              "      <td>7</td>\n",
              "      <td>1</td>\n",
              "      <td>2</td>\n",
              "      <td>1</td>\n",
              "    </tr>\n",
              "    <tr>\n",
              "      <th>...</th>\n",
              "      <td>...</td>\n",
              "      <td>...</td>\n",
              "      <td>...</td>\n",
              "      <td>...</td>\n",
              "      <td>...</td>\n",
              "      <td>...</td>\n",
              "      <td>...</td>\n",
              "      <td>...</td>\n",
              "    </tr>\n",
              "    <tr>\n",
              "      <th>1780648</th>\n",
              "      <td>-3.37667</td>\n",
              "      <td>55.0239</td>\n",
              "      <td>6</td>\n",
              "      <td>60</td>\n",
              "      <td>1</td>\n",
              "      <td>1</td>\n",
              "      <td>2</td>\n",
              "      <td>2</td>\n",
              "    </tr>\n",
              "    <tr>\n",
              "      <th>1780649</th>\n",
              "      <td>-3.24216</td>\n",
              "      <td>55.0163</td>\n",
              "      <td>6</td>\n",
              "      <td>60</td>\n",
              "      <td>1</td>\n",
              "      <td>1</td>\n",
              "      <td>2</td>\n",
              "      <td>2</td>\n",
              "    </tr>\n",
              "    <tr>\n",
              "      <th>1780650</th>\n",
              "      <td>-3.38707</td>\n",
              "      <td>55.1635</td>\n",
              "      <td>3</td>\n",
              "      <td>70</td>\n",
              "      <td>6</td>\n",
              "      <td>4</td>\n",
              "      <td>2</td>\n",
              "      <td>2</td>\n",
              "    </tr>\n",
              "    <tr>\n",
              "      <th>1780651</th>\n",
              "      <td>-3.12338</td>\n",
              "      <td>55.0206</td>\n",
              "      <td>6</td>\n",
              "      <td>60</td>\n",
              "      <td>1</td>\n",
              "      <td>2</td>\n",
              "      <td>2</td>\n",
              "      <td>2</td>\n",
              "    </tr>\n",
              "    <tr>\n",
              "      <th>1780652</th>\n",
              "      <td>-3.34865</td>\n",
              "      <td>55.1037</td>\n",
              "      <td>3</td>\n",
              "      <td>70</td>\n",
              "      <td>6</td>\n",
              "      <td>3</td>\n",
              "      <td>4</td>\n",
              "      <td>2</td>\n",
              "    </tr>\n",
              "  </tbody>\n",
              "</table>\n",
              "<p>1780515 rows × 8 columns</p>\n",
              "</div>"
            ],
            "text/plain": [
              "        Longitude Latitude  ... Road_Surface_Conditions Urban_or_Rural_Area\n",
              "0        -0.19117  51.4891  ...                       2                   1\n",
              "1       -0.211708  51.5201  ...                       1                   1\n",
              "2       -0.206458  51.5253  ...                       1                   1\n",
              "3       -0.173862  51.4824  ...                       1                   1\n",
              "4       -0.156618  51.4958  ...                       2                   1\n",
              "...           ...      ...  ...                     ...                 ...\n",
              "1780648  -3.37667  55.0239  ...                       2                   2\n",
              "1780649  -3.24216  55.0163  ...                       2                   2\n",
              "1780650  -3.38707  55.1635  ...                       2                   2\n",
              "1780651  -3.12338  55.0206  ...                       2                   2\n",
              "1780652  -3.34865  55.1037  ...                       4                   2\n",
              "\n",
              "[1780515 rows x 8 columns]"
            ]
          },
          "metadata": {},
          "execution_count": 21
        }
      ]
    },
    {
      "cell_type": "code",
      "metadata": {
        "colab": {
          "base_uri": "https://localhost:8080/"
        },
        "id": "dTEJykOxdMIP",
        "outputId": "010a9c64-2927-4bf5-bec1-3ade9985e2fb"
      },
      "source": [
        "from sklearn.preprocessing import StandardScaler\n",
        "from sklearn.preprocessing import MinMaxScaler\n",
        "\n",
        "\n",
        "scaler = MinMaxScaler(feature_range=(0, 1))\n",
        "scaler.fit(X)\n",
        "scaled_X = scaler.transform(X)\n",
        "scaled_X"
      ],
      "execution_count": 22,
      "outputs": [
        {
          "output_type": "execute_result",
          "data": {
            "text/plain": [
              "array([[0.78948798, 0.14534004, 0.625     , ..., 0.3       , 0.5       ,\n",
              "        0.        ],\n",
              "       [0.78727441, 0.14819667, 0.25      , ..., 0.2       , 0.33333333,\n",
              "        0.        ],\n",
              "       [0.78784025, 0.14867856, 0.625     , ..., 0.2       , 0.33333333,\n",
              "        0.        ],\n",
              "       ...,\n",
              "       [0.44503701, 0.48416351, 0.25      , ..., 0.5       , 0.5       ,\n",
              "        0.5       ],\n",
              "       [0.47345643, 0.47098442, 0.625     , ..., 0.3       , 0.5       ,\n",
              "        0.5       ],\n",
              "       [0.449178  , 0.47864684, 0.25      , ..., 0.4       , 0.83333333,\n",
              "        0.5       ]])"
            ]
          },
          "metadata": {},
          "execution_count": 22
        }
      ]
    },
    {
      "cell_type": "code",
      "metadata": {
        "id": "690PrRwUi-D2",
        "colab": {
          "base_uri": "https://localhost:8080/"
        },
        "outputId": "69623e2f-381c-4af6-c31f-f16bf07f0750"
      },
      "source": [
        "from collections import Counter\n",
        "from sklearn.preprocessing import LabelEncoder\n",
        "from imblearn.under_sampling import EditedNearestNeighbours \n",
        "\n",
        "enn = EditedNearestNeighbours()\n",
        "\n",
        "X, Y = enn.fit_resample(X, Y)"
      ],
      "execution_count": 23,
      "outputs": [
        {
          "output_type": "stream",
          "text": [
            "/usr/local/lib/python3.7/dist-packages/sklearn/utils/deprecation.py:87: FutureWarning: Function safe_indexing is deprecated; safe_indexing is deprecated in version 0.22 and will be removed in version 0.24.\n",
            "  warnings.warn(msg, category=FutureWarning)\n",
            "/usr/local/lib/python3.7/dist-packages/sklearn/utils/deprecation.py:87: FutureWarning: Function safe_indexing is deprecated; safe_indexing is deprecated in version 0.22 and will be removed in version 0.24.\n",
            "  warnings.warn(msg, category=FutureWarning)\n",
            "/usr/local/lib/python3.7/dist-packages/sklearn/utils/deprecation.py:87: FutureWarning: Function safe_indexing is deprecated; safe_indexing is deprecated in version 0.22 and will be removed in version 0.24.\n",
            "  warnings.warn(msg, category=FutureWarning)\n",
            "/usr/local/lib/python3.7/dist-packages/sklearn/utils/deprecation.py:87: FutureWarning: Function safe_indexing is deprecated; safe_indexing is deprecated in version 0.22 and will be removed in version 0.24.\n",
            "  warnings.warn(msg, category=FutureWarning)\n",
            "/usr/local/lib/python3.7/dist-packages/sklearn/utils/deprecation.py:87: FutureWarning: Function safe_indexing is deprecated; safe_indexing is deprecated in version 0.22 and will be removed in version 0.24.\n",
            "  warnings.warn(msg, category=FutureWarning)\n",
            "/usr/local/lib/python3.7/dist-packages/sklearn/utils/deprecation.py:87: FutureWarning: Function safe_indexing is deprecated; safe_indexing is deprecated in version 0.22 and will be removed in version 0.24.\n",
            "  warnings.warn(msg, category=FutureWarning)\n",
            "/usr/local/lib/python3.7/dist-packages/sklearn/utils/deprecation.py:87: FutureWarning: Function safe_indexing is deprecated; safe_indexing is deprecated in version 0.22 and will be removed in version 0.24.\n",
            "  warnings.warn(msg, category=FutureWarning)\n",
            "/usr/local/lib/python3.7/dist-packages/sklearn/utils/deprecation.py:87: FutureWarning: Function safe_indexing is deprecated; safe_indexing is deprecated in version 0.22 and will be removed in version 0.24.\n",
            "  warnings.warn(msg, category=FutureWarning)\n",
            "/usr/local/lib/python3.7/dist-packages/sklearn/utils/deprecation.py:87: FutureWarning: Function safe_indexing is deprecated; safe_indexing is deprecated in version 0.22 and will be removed in version 0.24.\n",
            "  warnings.warn(msg, category=FutureWarning)\n",
            "/usr/local/lib/python3.7/dist-packages/sklearn/utils/deprecation.py:87: FutureWarning: Function safe_indexing is deprecated; safe_indexing is deprecated in version 0.22 and will be removed in version 0.24.\n",
            "  warnings.warn(msg, category=FutureWarning)\n",
            "/usr/local/lib/python3.7/dist-packages/sklearn/utils/deprecation.py:87: FutureWarning: Function safe_indexing is deprecated; safe_indexing is deprecated in version 0.22 and will be removed in version 0.24.\n",
            "  warnings.warn(msg, category=FutureWarning)\n",
            "/usr/local/lib/python3.7/dist-packages/sklearn/utils/deprecation.py:87: FutureWarning: Function safe_indexing is deprecated; safe_indexing is deprecated in version 0.22 and will be removed in version 0.24.\n",
            "  warnings.warn(msg, category=FutureWarning)\n"
          ],
          "name": "stderr"
        }
      ]
    },
    {
      "cell_type": "code",
      "metadata": {
        "id": "o6AX6FCNjK4T",
        "colab": {
          "base_uri": "https://localhost:8080/"
        },
        "outputId": "29939bb1-9858-4d7b-ce59-05ff1403068b"
      },
      "source": [
        "from sklearn.model_selection import train_test_split\n",
        "\n",
        "x_train, x_test, y_train, y_test = train_test_split(X, Y, test_size=0.30)\n",
        "\n",
        "len(x_train)+ len(x_test) == len(X)"
      ],
      "execution_count": 24,
      "outputs": [
        {
          "output_type": "execute_result",
          "data": {
            "text/plain": [
              "True"
            ]
          },
          "metadata": {},
          "execution_count": 24
        }
      ]
    },
    {
      "cell_type": "code",
      "metadata": {
        "id": "-10ubkcejQYq",
        "colab": {
          "base_uri": "https://localhost:8080/"
        },
        "outputId": "2a1380ea-7722-424c-a96c-068cd0d63794"
      },
      "source": [
        "from sklearn.model_selection import cross_val_score\n",
        "from sklearn.tree import DecisionTreeClassifier\n",
        "from sklearn.metrics import accuracy_score\n",
        "\n",
        "clf = DecisionTreeClassifier(random_state=0)\n",
        "\n",
        "clf.fit(x_train, y_train)"
      ],
      "execution_count": 25,
      "outputs": [
        {
          "output_type": "execute_result",
          "data": {
            "text/plain": [
              "DecisionTreeClassifier(ccp_alpha=0.0, class_weight=None, criterion='gini',\n",
              "                       max_depth=None, max_features=None, max_leaf_nodes=None,\n",
              "                       min_impurity_decrease=0.0, min_impurity_split=None,\n",
              "                       min_samples_leaf=1, min_samples_split=2,\n",
              "                       min_weight_fraction_leaf=0.0, presort='deprecated',\n",
              "                       random_state=0, splitter='best')"
            ]
          },
          "metadata": {},
          "execution_count": 25
        }
      ]
    },
    {
      "cell_type": "code",
      "metadata": {
        "id": "u_afKiIAjPdU"
      },
      "source": [
        "y_pred = clf.predict(x_test)"
      ],
      "execution_count": 26,
      "outputs": []
    },
    {
      "cell_type": "code",
      "metadata": {
        "id": "s0TgmxiAjRKJ",
        "colab": {
          "base_uri": "https://localhost:8080/"
        },
        "outputId": "ad33b820-6c7a-4bd7-812b-fdce855483b2"
      },
      "source": [
        "from sklearn.metrics import classification_report, confusion_matrix\n",
        "\n",
        "print(classification_report(y_test, y_pred))\n",
        "\n",
        "print('Accuracy of Decision Tree classifier on the training set: {:.2f}'.format(clf.score(x_train, y_train)))\n",
        "print('Accuracy of Decision Tree classifier on the test set: {:.2f}'.format(clf.score(x_test, y_test)))\n",
        "\n",
        "#Decision Trees are very prone to overfitting as shown in the scores\n",
        "\n",
        "score = cross_val_score(clf, x_train, y_train, cv=5) \n",
        "print('Cross-validation score: ',score)\n",
        "print('Cross-validation mean score: ',score.mean())"
      ],
      "execution_count": 27,
      "outputs": [
        {
          "output_type": "stream",
          "text": [
            "              precision    recall  f1-score   support\n",
            "\n",
            "           1       0.29      0.38      0.33       102\n",
            "           2       0.99      0.98      0.99     39312\n",
            "           3       0.40      0.44      0.42        50\n",
            "           4       0.40      0.41      0.41        39\n",
            "           5       0.41      0.49      0.45        68\n",
            "           6       0.33      0.44      0.38        62\n",
            "           7       0.44      0.40      0.42        75\n",
            "           8       0.25      0.36      0.29        45\n",
            "           9       0.45      0.46      0.45        68\n",
            "          10       0.40      0.45      0.43        77\n",
            "          11       0.31      0.35      0.33        99\n",
            "          12       0.29      0.34      0.31       132\n",
            "\n",
            "    accuracy                           0.97     40129\n",
            "   macro avg       0.41      0.46      0.43     40129\n",
            "weighted avg       0.97      0.97      0.97     40129\n",
            "\n",
            "Accuracy of Decision Tree classifier on the training set: 1.00\n",
            "Accuracy of Decision Tree classifier on the test set: 0.97\n",
            "Cross-validation score:  [0.97015005 0.97148502 0.97057567 0.97020186 0.97009506]\n",
            "Cross-validation mean score:  0.9705015311858128\n"
          ],
          "name": "stdout"
        }
      ]
    },
    {
      "cell_type": "code",
      "metadata": {
        "id": "9jLVNggLjWl6"
      },
      "source": [
        "from sklearn.ensemble import RandomForestClassifier\n",
        "rfc = RandomForestClassifier()\n",
        "rfc.fit(x_train, y_train)\n",
        "y_pred = rfc.predict(x_test)"
      ],
      "execution_count": 28,
      "outputs": []
    },
    {
      "cell_type": "code",
      "metadata": {
        "id": "csQpckMsjRGt",
        "colab": {
          "base_uri": "https://localhost:8080/"
        },
        "outputId": "16f1570e-8c96-4d86-de6b-df18f2ec0ced"
      },
      "source": [
        "print(classification_report(y_test, y_pred))\n",
        "\n",
        "print('Accuracy of Decision Tree classifier on the training set: {:.2f}'.format(rfc.score(x_train, y_train)))\n",
        "print('Accuracy of Decision Tree classifier on the test set: {:.2f}'.format(rfc.score(x_test, y_test)))\n",
        "\n",
        "#Decision Trees are very prone to overfitting as shown in the scores\n",
        "\n",
        "score = cross_val_score(rfc, x_train, y_train, cv=5) \n",
        "print('Cross-validation score: ',score)\n",
        "print('Cross-validation mean score: ',score.mean())"
      ],
      "execution_count": 29,
      "outputs": [
        {
          "output_type": "stream",
          "text": [
            "              precision    recall  f1-score   support\n",
            "\n",
            "           1       0.89      0.38      0.53       102\n",
            "           2       0.99      1.00      0.99     39312\n",
            "           3       0.82      0.46      0.59        50\n",
            "           4       0.76      0.41      0.53        39\n",
            "           5       0.79      0.50      0.61        68\n",
            "           6       0.84      0.42      0.56        62\n",
            "           7       0.97      0.40      0.57        75\n",
            "           8       0.67      0.31      0.42        45\n",
            "           9       0.86      0.53      0.65        68\n",
            "          10       0.78      0.38      0.51        77\n",
            "          11       0.93      0.27      0.42        99\n",
            "          12       0.90      0.39      0.55       132\n",
            "\n",
            "    accuracy                           0.99     40129\n",
            "   macro avg       0.85      0.45      0.58     40129\n",
            "weighted avg       0.98      0.99      0.98     40129\n",
            "\n",
            "Accuracy of Decision Tree classifier on the training set: 1.00\n",
            "Accuracy of Decision Tree classifier on the test set: 0.99\n",
            "Cross-validation score:  [0.98568911 0.98563571 0.98590195 0.98510093 0.98451351]\n",
            "Cross-validation mean score:  0.9853682438873745\n"
          ],
          "name": "stdout"
        }
      ]
    },
    {
      "cell_type": "code",
      "metadata": {
        "id": "Hq_L_C7xjRDw",
        "colab": {
          "base_uri": "https://localhost:8080/"
        },
        "outputId": "ac692982-bc4f-42ba-a7df-7b02206aca36"
      },
      "source": [
        "test1 = rfc.predict([[-0.19117,51.4891,6,30,1,2,2,1]])\n",
        "\n",
        "a = rfc.predict_proba([[-0.19117,51.4891,6,30,1,2,2,1]])\n",
        "\n",
        "print(test1)\n",
        "print(a)\n",
        "print(rfc.classes_)"
      ],
      "execution_count": 30,
      "outputs": [
        {
          "output_type": "stream",
          "text": [
            "[2]\n",
            "[[0. 1. 0. 0. 0. 0. 0. 0. 0. 0. 0. 0.]]\n",
            "[ 1  2  3  4  5  6  7  8  9 10 11 12]\n"
          ],
          "name": "stdout"
        }
      ]
    },
    {
      "cell_type": "code",
      "metadata": {
        "id": "zFMUFpSqjyno",
        "colab": {
          "base_uri": "https://localhost:8080/"
        },
        "outputId": "be73a642-9164-4d3e-f161-2a45cb46108b"
      },
      "source": [
        "import joblib\n",
        "joblib.dump(rfc, 'model.pkl')"
      ],
      "execution_count": 31,
      "outputs": [
        {
          "output_type": "execute_result",
          "data": {
            "text/plain": [
              "['model.pkl']"
            ]
          },
          "metadata": {},
          "execution_count": 31
        }
      ]
    },
    {
      "cell_type": "code",
      "metadata": {
        "id": "h-EtQW6zj3jR",
        "colab": {
          "base_uri": "https://localhost:8080/"
        },
        "outputId": "1e06b2b6-54c8-408d-aa54-0746f2415857"
      },
      "source": [
        "print(sklearn. __version__)"
      ],
      "execution_count": 32,
      "outputs": [
        {
          "output_type": "stream",
          "text": [
            "0.22.2.post1\n"
          ],
          "name": "stdout"
        }
      ]
    }
  ]
}